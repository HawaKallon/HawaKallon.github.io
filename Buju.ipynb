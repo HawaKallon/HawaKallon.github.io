{
  "nbformat": 4,
  "nbformat_minor": 0,
  "metadata": {
    "colab": {
      "provenance": [],
      "authorship_tag": "ABX9TyP+Z1RogsUlyqFDjC0HnU3W",
      "include_colab_link": true
    },
    "kernelspec": {
      "name": "python3",
      "display_name": "Python 3"
    },
    "language_info": {
      "name": "python"
    }
  },
  "cells": [
    {
      "cell_type": "markdown",
      "metadata": {
        "id": "view-in-github",
        "colab_type": "text"
      },
      "source": [
        "<a href=\"https://colab.research.google.com/github/HawaKallon/HawaKallon.github.io/blob/main/Buju.ipynb\" target=\"_parent\"><img src=\"https://colab.research.google.com/assets/colab-badge.svg\" alt=\"Open In Colab\"/></a>"
      ]
    },
    {
      "cell_type": "code",
      "execution_count": null,
      "metadata": {
        "colab": {
          "base_uri": "https://localhost:8080/"
        },
        "id": "tAGoF6Mjnzfj",
        "outputId": "95a37681-bfe8-483d-da64-7c2e44328371"
      },
      "outputs": [
        {
          "output_type": "execute_result",
          "data": {
            "text/plain": [
              "(1, 3, 5, 'Hi', 4)"
            ]
          },
          "metadata": {},
          "execution_count": 1
        }
      ],
      "source": [
        "data = (1, 3, 5, 'Hi', 4)\n",
        "data"
      ]
    },
    {
      "cell_type": "code",
      "source": [
        "type(data)"
      ],
      "metadata": {
        "colab": {
          "base_uri": "https://localhost:8080/"
        },
        "id": "FVtg4DAYp91E",
        "outputId": "cdf907e5-ba43-4cec-c77f-80b2a7914cb5"
      },
      "execution_count": null,
      "outputs": [
        {
          "output_type": "execute_result",
          "data": {
            "text/plain": [
              "tuple"
            ]
          },
          "metadata": {},
          "execution_count": 2
        }
      ]
    },
    {
      "cell_type": "code",
      "source": [
        "names = ['Hawa', 'Lia', 'Ricky']\n",
        "converted_names = tuple(names)\n",
        "converted_names"
      ],
      "metadata": {
        "colab": {
          "base_uri": "https://localhost:8080/"
        },
        "id": "nnSjexLXp_Jy",
        "outputId": "959a0a2c-0e0b-4dee-b8df-c28ee3255dd0"
      },
      "execution_count": null,
      "outputs": [
        {
          "output_type": "execute_result",
          "data": {
            "text/plain": [
              "('Hawa', 'Lia', 'Ricky')"
            ]
          },
          "metadata": {},
          "execution_count": 3
        }
      ]
    },
    {
      "cell_type": "code",
      "source": [
        "type(converted_names)"
      ],
      "metadata": {
        "colab": {
          "base_uri": "https://localhost:8080/"
        },
        "id": "plIRPlcFqwQu",
        "outputId": "c0594ac0-a4b4-4fd0-ab64-c7346f5f474a"
      },
      "execution_count": null,
      "outputs": [
        {
          "output_type": "execute_result",
          "data": {
            "text/plain": [
              "tuple"
            ]
          },
          "metadata": {},
          "execution_count": 4
        }
      ]
    },
    {
      "cell_type": "code",
      "source": [
        "len(converted_names)"
      ],
      "metadata": {
        "colab": {
          "base_uri": "https://localhost:8080/"
        },
        "id": "wlTaUS1wrI6_",
        "outputId": "4af573a1-4be7-486f-c839-9ba5ea94bb39"
      },
      "execution_count": null,
      "outputs": [
        {
          "output_type": "execute_result",
          "data": {
            "text/plain": [
              "3"
            ]
          },
          "metadata": {},
          "execution_count": 5
        }
      ]
    },
    {
      "cell_type": "code",
      "source": [
        "print(converted_names[0])\n",
        "print(converted_names[1])\n",
        "print(converted_names[2])"
      ],
      "metadata": {
        "colab": {
          "base_uri": "https://localhost:8080/"
        },
        "id": "JjFjIMWqsFCN",
        "outputId": "cd378c24-d6fb-445d-f598-b46beb3e7be1"
      },
      "execution_count": null,
      "outputs": [
        {
          "output_type": "stream",
          "name": "stdout",
          "text": [
            "Hawa\n",
            "Lia\n",
            "Ricky\n"
          ]
        }
      ]
    },
    {
      "cell_type": "code",
      "source": [
        "days_of_the_week = ('Monday', 'Tuesday', 'Wednesday', 'Thursday', 'Friday', 'Saturday', 'Sunday')\n",
        "weekend = days_of_the_week[4:7]\n",
        "weekend"
      ],
      "metadata": {
        "colab": {
          "base_uri": "https://localhost:8080/"
        },
        "id": "NnhK08VhtH-N",
        "outputId": "268e2450-6d8e-4fb4-c355-87c53f4b68d9"
      },
      "execution_count": null,
      "outputs": [
        {
          "output_type": "execute_result",
          "data": {
            "text/plain": [
              "('Friday', 'Saturday', 'Sunday')"
            ]
          },
          "metadata": {},
          "execution_count": 7
        }
      ]
    },
    {
      "cell_type": "code",
      "source": [
        "working_days = days_of_the_week[0:5]\n",
        "working_days"
      ],
      "metadata": {
        "colab": {
          "base_uri": "https://localhost:8080/"
        },
        "id": "vXdCKKlAuDlT",
        "outputId": "0e0371d4-45a1-4a53-dc55-144f61001efe"
      },
      "execution_count": null,
      "outputs": [
        {
          "output_type": "execute_result",
          "data": {
            "text/plain": [
              "('Monday', 'Tuesday', 'Wednesday', 'Thursday', 'Friday')"
            ]
          },
          "metadata": {},
          "execution_count": 8
        }
      ]
    },
    {
      "cell_type": "code",
      "source": [
        "converted_names[0] = 'Buju'"
      ],
      "metadata": {
        "colab": {
          "base_uri": "https://localhost:8080/",
          "height": 176
        },
        "id": "IsHSA12DuN1_",
        "outputId": "324e6597-57ce-4701-9a7e-f2175d13bd17"
      },
      "execution_count": null,
      "outputs": [
        {
          "output_type": "error",
          "ename": "TypeError",
          "evalue": "ignored",
          "traceback": [
            "\u001b[0;31m---------------------------------------------------------------------------\u001b[0m",
            "\u001b[0;31mTypeError\u001b[0m                                 Traceback (most recent call last)",
            "\u001b[0;32m<ipython-input-9-40ea1d9724e2>\u001b[0m in \u001b[0;36m<cell line: 1>\u001b[0;34m()\u001b[0m\n\u001b[0;32m----> 1\u001b[0;31m \u001b[0mconverted_names\u001b[0m\u001b[0;34m[\u001b[0m\u001b[0;36m0\u001b[0m\u001b[0;34m]\u001b[0m \u001b[0;34m=\u001b[0m \u001b[0;34m'Buju'\u001b[0m\u001b[0;34m\u001b[0m\u001b[0;34m\u001b[0m\u001b[0m\n\u001b[0m",
            "\u001b[0;31mTypeError\u001b[0m: 'tuple' object does not support item assignment"
          ]
        }
      ]
    },
    {
      "cell_type": "code",
      "source": [
        "for day in days_of_the_week:\n",
        "  print(day)"
      ],
      "metadata": {
        "colab": {
          "base_uri": "https://localhost:8080/"
        },
        "id": "cHwsKthdu1j8",
        "outputId": "6ba07bc3-c778-4701-aa24-52bcd2882d25"
      },
      "execution_count": null,
      "outputs": [
        {
          "output_type": "stream",
          "name": "stdout",
          "text": [
            "Monday\n",
            "Tuesday\n",
            "Wednesday\n",
            "Thursday\n",
            "Friday\n",
            "Saturday\n",
            "Sunday\n"
          ]
        }
      ]
    },
    {
      "cell_type": "code",
      "source": [
        "vowels = (\"a\", \"e\", \"i\", \"o\", \"u\")\n",
        "for vowel in vowels:\n",
        "  print(vowel.upper(),end = \" - \")"
      ],
      "metadata": {
        "colab": {
          "base_uri": "https://localhost:8080/"
        },
        "id": "ImpwSNZfwVZk",
        "outputId": "ba47c9a7-3c75-460c-c4ed-a917c2ddcf42"
      },
      "execution_count": null,
      "outputs": [
        {
          "output_type": "stream",
          "name": "stdout",
          "text": [
            "A - E - I - O - U - "
          ]
        }
      ]
    },
    {
      "cell_type": "code",
      "source": [
        "teams = \"madrid\", \"liverpool\", \"arsenal\", \"man U\", \"chelsea\"\n",
        "teams"
      ],
      "metadata": {
        "colab": {
          "base_uri": "https://localhost:8080/"
        },
        "id": "ql603kJJw8Mm",
        "outputId": "1db48044-0553-4d39-bb4a-480392e25076"
      },
      "execution_count": null,
      "outputs": [
        {
          "output_type": "execute_result",
          "data": {
            "text/plain": [
              "('madrid', 'liverpool', 'arsenal', 'man U', 'chelsea')"
            ]
          },
          "metadata": {},
          "execution_count": 14
        }
      ]
    },
    {
      "cell_type": "code",
      "source": [
        "print(teams)"
      ],
      "metadata": {
        "colab": {
          "base_uri": "https://localhost:8080/"
        },
        "id": "5G-U8a-AycMC",
        "outputId": "48c90d39-a734-46a0-d249-cb033f6aa08b"
      },
      "execution_count": null,
      "outputs": [
        {
          "output_type": "stream",
          "name": "stdout",
          "text": [
            "('madrid', 'liverpool', 'arsenal', 'man U', 'chelsea')\n"
          ]
        }
      ]
    },
    {
      "cell_type": "code",
      "source": [
        "student_info = 99, 'Hawa', 'BSEM', 'FICT'\n",
        "grade, name, course, faculty = student_info\n",
        "print(grade, '\\n', name, '\\n', course, '\\n', faculty )"
      ],
      "metadata": {
        "colab": {
          "base_uri": "https://localhost:8080/"
        },
        "id": "8iuNDAwfyh1j",
        "outputId": "b3d77b48-1a1c-4183-a7cd-fb86aab1a158"
      },
      "execution_count": null,
      "outputs": [
        {
          "output_type": "stream",
          "name": "stdout",
          "text": [
            "99 \n",
            " Hawa \n",
            " BSEM \n",
            " FICT\n"
          ]
        }
      ]
    },
    {
      "cell_type": "code",
      "source": [
        "print(name, '\\n', grade, '\\n', course, '\\n', faculty )"
      ],
      "metadata": {
        "colab": {
          "base_uri": "https://localhost:8080/"
        },
        "id": "404NRGMezuOP",
        "outputId": "5fd0f15d-3e82-4e40-cbdf-d54248636e80"
      },
      "execution_count": null,
      "outputs": [
        {
          "output_type": "stream",
          "name": "stdout",
          "text": [
            "Hawa \n",
            " 99 \n",
            " BSEM \n",
            " FICT\n"
          ]
        }
      ]
    },
    {
      "cell_type": "code",
      "source": [
        "fruits = ('apple', 'banana', 'orange', 'grape', 'kiwi')\n",
        "print('apple' in fruits and 'orange' in fruits)"
      ],
      "metadata": {
        "colab": {
          "base_uri": "https://localhost:8080/"
        },
        "id": "CeJceChU0OC0",
        "outputId": "e6f1861f-1c5d-4496-84bc-f7b197b6d802"
      },
      "execution_count": null,
      "outputs": [
        {
          "output_type": "stream",
          "name": "stdout",
          "text": [
            "True\n"
          ]
        }
      ]
    },
    {
      "cell_type": "code",
      "source": [
        "print('guave' in fruits and 'kiwi' in fruits)"
      ],
      "metadata": {
        "colab": {
          "base_uri": "https://localhost:8080/"
        },
        "id": "-xBsaIEK1EHY",
        "outputId": "bbe5cd34-e476-4c14-c405-a8b390f2b102"
      },
      "execution_count": null,
      "outputs": [
        {
          "output_type": "stream",
          "name": "stdout",
          "text": [
            "False\n"
          ]
        }
      ]
    },
    {
      "cell_type": "markdown",
      "source": [
        "# exercises"
      ],
      "metadata": {
        "id": "ptCbd80C2dv-"
      }
    },
    {
      "cell_type": "markdown",
      "source": [],
      "metadata": {
        "id": "1PwP354g4QTM"
      }
    },
    {
      "cell_type": "code",
      "source": [
        "cardinal_numbers = (\"first\", \"second\", \"third\")\n",
        "cardinal_numbers"
      ],
      "metadata": {
        "colab": {
          "base_uri": "https://localhost:8080/"
        },
        "id": "dqanMyyA1Xd5",
        "outputId": "49417724-0eab-42a1-9699-395eada79f8d"
      },
      "execution_count": null,
      "outputs": [
        {
          "output_type": "execute_result",
          "data": {
            "text/plain": [
              "('first', 'second', 'third')"
            ]
          },
          "metadata": {},
          "execution_count": 20
        }
      ]
    },
    {
      "cell_type": "code",
      "source": [
        "print(cardinal_numbers[1])"
      ],
      "metadata": {
        "colab": {
          "base_uri": "https://localhost:8080/"
        },
        "id": "4zIJh4gK1Lfm",
        "outputId": "c46be4cb-5951-4011-ed86-dd4d1c52b100"
      },
      "execution_count": null,
      "outputs": [
        {
          "output_type": "stream",
          "name": "stdout",
          "text": [
            "second\n"
          ]
        }
      ]
    },
    {
      "cell_type": "code",
      "source": [
        "position1, position2, position3 = cardinal_numbers\n",
        "print(position1, '\\n', position2, '\\n', position3, '\\n')\n"
      ],
      "metadata": {
        "colab": {
          "base_uri": "https://localhost:8080/"
        },
        "id": "K1KZUWQB1w8k",
        "outputId": "249cde25-78e5-43d0-a6df-cb30760ff8aa"
      },
      "execution_count": null,
      "outputs": [
        {
          "output_type": "stream",
          "name": "stdout",
          "text": [
            "first \n",
            " second \n",
            " third \n",
            "\n"
          ]
        }
      ]
    },
    {
      "cell_type": "code",
      "source": [
        "my_name1 = ('H', 'A', 'W', 'A')\n",
        "print(my_name1)\n",
        "letters = ('H', 'A', 'W', 'A')\n",
        "my_name2 = tuple(letters)\n",
        "print(my_name2)\n"
      ],
      "metadata": {
        "colab": {
          "base_uri": "https://localhost:8080/"
        },
        "id": "MajxKl862idw",
        "outputId": "5cb556aa-7a11-428d-eaf4-f81c1e75e9cc"
      },
      "execution_count": null,
      "outputs": [
        {
          "output_type": "stream",
          "name": "stdout",
          "text": [
            "('H', 'A', 'W', 'A')\n",
            "('H', 'A', 'W', 'A')\n"
          ]
        }
      ]
    },
    {
      "cell_type": "code",
      "source": [
        "print('x' in my_name1)\n",
        "print('A' in my_name1)\n"
      ],
      "metadata": {
        "colab": {
          "base_uri": "https://localhost:8080/"
        },
        "id": "iF6C5ACS3PYF",
        "outputId": "ad02367d-65d8-4c55-f1e3-fa97f50d243e"
      },
      "execution_count": null,
      "outputs": [
        {
          "output_type": "stream",
          "name": "stdout",
          "text": [
            "False\n",
            "True\n"
          ]
        }
      ]
    },
    {
      "cell_type": "code",
      "source": [
        "new_name = my_name1[1:4]\n",
        "print(new_name)"
      ],
      "metadata": {
        "colab": {
          "base_uri": "https://localhost:8080/"
        },
        "id": "z3FI0Cy-3d1z",
        "outputId": "4bf0b4d5-cdd8-4e65-fac6-0f1517dcf806"
      },
      "execution_count": null,
      "outputs": [
        {
          "output_type": "stream",
          "name": "stdout",
          "text": [
            "('A', 'W', 'A')\n"
          ]
        }
      ]
    },
    {
      "cell_type": "markdown",
      "source": [
        "# LIST"
      ],
      "metadata": {
        "id": "3law4_T941XS"
      }
    },
    {
      "cell_type": "code",
      "source": [
        "list1  = [1, 2, 3, 4, 5, 'hii']\n",
        "list1"
      ],
      "metadata": {
        "colab": {
          "base_uri": "https://localhost:8080/"
        },
        "id": "zgE3Ap9p3vE_",
        "outputId": "f49b15ed-b94a-4f8b-b089-1e82f490ef82"
      },
      "execution_count": null,
      "outputs": [
        {
          "output_type": "execute_result",
          "data": {
            "text/plain": [
              "[1, 2, 3, 4, 5, 'hii']"
            ]
          },
          "metadata": {},
          "execution_count": 30
        }
      ]
    },
    {
      "cell_type": "code",
      "source": [
        "type(list1)"
      ],
      "metadata": {
        "colab": {
          "base_uri": "https://localhost:8080/"
        },
        "id": "dEvC4tKQ4bm0",
        "outputId": "bcc36f34-c48a-4ef5-e501-612f590a5f3a"
      },
      "execution_count": null,
      "outputs": [
        {
          "output_type": "execute_result",
          "data": {
            "text/plain": [
              "list"
            ]
          },
          "metadata": {},
          "execution_count": 31
        }
      ]
    },
    {
      "cell_type": "code",
      "source": [
        "numbers = list((1, 2, 3, \"hohoho\"))\n",
        "numbers"
      ],
      "metadata": {
        "colab": {
          "base_uri": "https://localhost:8080/"
        },
        "id": "9EN_WVQr4iPn",
        "outputId": "b24c8b27-2f60-4ab7-f917-a77fd064ef00"
      },
      "execution_count": null,
      "outputs": [
        {
          "output_type": "execute_result",
          "data": {
            "text/plain": [
              "[1, 2, 3, 'hohoho']"
            ]
          },
          "metadata": {},
          "execution_count": 32
        }
      ]
    },
    {
      "cell_type": "code",
      "source": [
        "list(\"hawa\")"
      ],
      "metadata": {
        "colab": {
          "base_uri": "https://localhost:8080/"
        },
        "id": "PAPX-PoS5TNv",
        "outputId": "e87867f0-e83d-4019-948d-0901edd30ff5"
      },
      "execution_count": null,
      "outputs": [
        {
          "output_type": "execute_result",
          "data": {
            "text/plain": [
              "['h', 'a', 'w', 'a']"
            ]
          },
          "metadata": {},
          "execution_count": 33
        }
      ]
    },
    {
      "cell_type": "code",
      "source": [
        "groceries = \"eggs, milk, cheese\"\n",
        "grocery_list = groceries.spilt(\", \")\n",
        "grocery_list"
      ],
      "metadata": {
        "colab": {
          "base_uri": "https://localhost:8080/",
          "height": 211
        },
        "id": "0LQJphg_5pcA",
        "outputId": "ecb64e63-e155-4d3f-d2e0-61f554b3a738"
      },
      "execution_count": null,
      "outputs": [
        {
          "output_type": "error",
          "ename": "AttributeError",
          "evalue": "ignored",
          "traceback": [
            "\u001b[0;31m---------------------------------------------------------------------------\u001b[0m",
            "\u001b[0;31mAttributeError\u001b[0m                            Traceback (most recent call last)",
            "\u001b[0;32m<ipython-input-34-4c8d4a65bfc5>\u001b[0m in \u001b[0;36m<cell line: 2>\u001b[0;34m()\u001b[0m\n\u001b[1;32m      1\u001b[0m \u001b[0mgroceries\u001b[0m \u001b[0;34m=\u001b[0m \u001b[0;34m\"eggs, milk, cheese\"\u001b[0m\u001b[0;34m\u001b[0m\u001b[0;34m\u001b[0m\u001b[0m\n\u001b[0;32m----> 2\u001b[0;31m \u001b[0mgrocery_list\u001b[0m \u001b[0;34m=\u001b[0m \u001b[0mgroceries\u001b[0m\u001b[0;34m.\u001b[0m\u001b[0mspilt\u001b[0m\u001b[0;34m(\u001b[0m\u001b[0;34m\", \"\u001b[0m\u001b[0;34m)\u001b[0m\u001b[0;34m\u001b[0m\u001b[0;34m\u001b[0m\u001b[0m\n\u001b[0m\u001b[1;32m      3\u001b[0m \u001b[0mgrocery_list\u001b[0m\u001b[0;34m\u001b[0m\u001b[0;34m\u001b[0m\u001b[0m\n",
            "\u001b[0;31mAttributeError\u001b[0m: 'str' object has no attribute 'spilt'"
          ]
        }
      ]
    },
    {
      "cell_type": "code",
      "source": [
        "grocery_list = groceries.split(\", \")\n",
        "grocery_list"
      ],
      "metadata": {
        "colab": {
          "base_uri": "https://localhost:8080/"
        },
        "id": "aoxa9-zv6BQH",
        "outputId": "9e867137-58e7-40d0-f4ca-c01b01b699bd"
      },
      "execution_count": null,
      "outputs": [
        {
          "output_type": "execute_result",
          "data": {
            "text/plain": [
              "['eggs', 'milk', 'cheese']"
            ]
          },
          "metadata": {},
          "execution_count": 35
        }
      ]
    },
    {
      "cell_type": "code",
      "source": [
        "numbers = [1, 2, 3, 4]\n",
        "numbers[3]"
      ],
      "metadata": {
        "colab": {
          "base_uri": "https://localhost:8080/"
        },
        "id": "STAlMwzA6TTJ",
        "outputId": "5b4a4269-3aaa-4055-846a-6aa2e6e30f1a"
      },
      "execution_count": null,
      "outputs": [
        {
          "output_type": "execute_result",
          "data": {
            "text/plain": [
              "4"
            ]
          },
          "metadata": {},
          "execution_count": 36
        }
      ]
    },
    {
      "cell_type": "code",
      "source": [
        "newNumbers = numbers[2:4]\n",
        "newNumbers"
      ],
      "metadata": {
        "colab": {
          "base_uri": "https://localhost:8080/"
        },
        "id": "SPIFrbe76zfu",
        "outputId": "09107954-d29a-4e3b-d7ae-25ec1a382af9"
      },
      "execution_count": null,
      "outputs": [
        {
          "output_type": "execute_result",
          "data": {
            "text/plain": [
              "[3, 4]"
            ]
          },
          "metadata": {},
          "execution_count": 37
        }
      ]
    },
    {
      "cell_type": "code",
      "source": [
        "\"hawa\" in numbers"
      ],
      "metadata": {
        "colab": {
          "base_uri": "https://localhost:8080/"
        },
        "id": "_1L_qMo27Bmx",
        "outputId": "86cc093e-3282-4d6b-a96c-861101217721"
      },
      "execution_count": null,
      "outputs": [
        {
          "output_type": "execute_result",
          "data": {
            "text/plain": [
              "False"
            ]
          },
          "metadata": {},
          "execution_count": 38
        }
      ]
    },
    {
      "cell_type": "code",
      "source": [
        "numbers[3] = 8\n",
        "print(numbers)"
      ],
      "metadata": {
        "colab": {
          "base_uri": "https://localhost:8080/"
        },
        "id": "LxyTIAGw7MGL",
        "outputId": "79655097-e020-4ca5-d260-3257bd8ff367"
      },
      "execution_count": null,
      "outputs": [
        {
          "output_type": "stream",
          "name": "stdout",
          "text": [
            "[1, 2, 3, 8]\n"
          ]
        }
      ]
    },
    {
      "cell_type": "code",
      "source": [
        "colors = ['red', 'yellow', 'green', 'blue']\n",
        "colors[0] = 'burgundy'\n",
        "colors"
      ],
      "metadata": {
        "colab": {
          "base_uri": "https://localhost:8080/"
        },
        "id": "rDVpqYTN8sW1",
        "outputId": "94feecdb-d683-45b3-d7a4-b3e81da2f42f"
      },
      "execution_count": null,
      "outputs": [
        {
          "output_type": "execute_result",
          "data": {
            "text/plain": [
              "['burgundy', 'yellow', 'green', 'blue']"
            ]
          },
          "metadata": {},
          "execution_count": 41
        }
      ]
    },
    {
      "cell_type": "code",
      "source": [
        "colors[1:3] = ['orange', 'magenta']\n",
        "colors"
      ],
      "metadata": {
        "colab": {
          "base_uri": "https://localhost:8080/"
        },
        "id": "4jyUnB-u9AU2",
        "outputId": "b7ff6f8e-6881-4539-e9fc-0514b5063aab"
      },
      "execution_count": null,
      "outputs": [
        {
          "output_type": "execute_result",
          "data": {
            "text/plain": [
              "['burgundy', 'orange', 'magenta', 'blue']"
            ]
          },
          "metadata": {},
          "execution_count": 42
        }
      ]
    },
    {
      "cell_type": "code",
      "source": [
        "colors.insert(2, 'violet')\n",
        "colors"
      ],
      "metadata": {
        "colab": {
          "base_uri": "https://localhost:8080/"
        },
        "id": "kzYqOoT49OJr",
        "outputId": "bb329b5d-2d67-4ab7-eeb1-51c1783c21a8"
      },
      "execution_count": null,
      "outputs": [
        {
          "output_type": "execute_result",
          "data": {
            "text/plain": [
              "['burgundy', 'orange', 'violet', 'magenta', 'blue']"
            ]
          },
          "metadata": {},
          "execution_count": 43
        }
      ]
    },
    {
      "cell_type": "code",
      "source": [
        "colors.pop(3)\n",
        "colors"
      ],
      "metadata": {
        "colab": {
          "base_uri": "https://localhost:8080/"
        },
        "id": "cubhAUGQ-PFj",
        "outputId": "2c3cc2c8-9bdf-4141-94ed-0a8d5b4db9e3"
      },
      "execution_count": null,
      "outputs": [
        {
          "output_type": "execute_result",
          "data": {
            "text/plain": [
              "['burgundy', 'orange', 'violet', 'blue']"
            ]
          },
          "metadata": {},
          "execution_count": 44
        }
      ]
    },
    {
      "cell_type": "code",
      "source": [
        "colors.append('indigo')\n",
        "colors"
      ],
      "metadata": {
        "colab": {
          "base_uri": "https://localhost:8080/"
        },
        "id": "UrRC1HLv_AhY",
        "outputId": "d5afb8a8-7f83-4323-ff4b-ba92847b3562"
      },
      "execution_count": null,
      "outputs": [
        {
          "output_type": "execute_result",
          "data": {
            "text/plain": [
              "['burgundy', 'orange', 'violet', 'blue', 'indigo', 'indigo']"
            ]
          },
          "metadata": {},
          "execution_count": 46
        }
      ]
    },
    {
      "cell_type": "code",
      "source": [
        "colors.pop(4)\n",
        "colors"
      ],
      "metadata": {
        "colab": {
          "base_uri": "https://localhost:8080/"
        },
        "id": "Ta6tN4YK_Mpg",
        "outputId": "747fa6c9-5fbd-468d-dcf0-d89b1ef4c541"
      },
      "execution_count": null,
      "outputs": [
        {
          "output_type": "execute_result",
          "data": {
            "text/plain": [
              "['burgundy', 'orange', 'violet', 'blue', 'indigo']"
            ]
          },
          "metadata": {},
          "execution_count": 47
        }
      ]
    },
    {
      "cell_type": "code",
      "source": [
        "colors.append('yellow', 'red')\n",
        "colors"
      ],
      "metadata": {
        "colab": {
          "base_uri": "https://localhost:8080/",
          "height": 193
        },
        "id": "Yo2lSvLY_S8_",
        "outputId": "db85bf99-36de-43da-e273-1212e2785982"
      },
      "execution_count": null,
      "outputs": [
        {
          "output_type": "error",
          "ename": "TypeError",
          "evalue": "ignored",
          "traceback": [
            "\u001b[0;31m---------------------------------------------------------------------------\u001b[0m",
            "\u001b[0;31mTypeError\u001b[0m                                 Traceback (most recent call last)",
            "\u001b[0;32m<ipython-input-48-87575d6735c5>\u001b[0m in \u001b[0;36m<cell line: 1>\u001b[0;34m()\u001b[0m\n\u001b[0;32m----> 1\u001b[0;31m \u001b[0mcolors\u001b[0m\u001b[0;34m.\u001b[0m\u001b[0mappend\u001b[0m\u001b[0;34m(\u001b[0m\u001b[0;34m'yellow'\u001b[0m\u001b[0;34m,\u001b[0m \u001b[0;34m'red'\u001b[0m\u001b[0;34m)\u001b[0m\u001b[0;34m\u001b[0m\u001b[0;34m\u001b[0m\u001b[0m\n\u001b[0m\u001b[1;32m      2\u001b[0m \u001b[0mcolors\u001b[0m\u001b[0;34m\u001b[0m\u001b[0;34m\u001b[0m\u001b[0m\n",
            "\u001b[0;31mTypeError\u001b[0m: list.append() takes exactly one argument (2 given)"
          ]
        }
      ]
    },
    {
      "cell_type": "code",
      "source": [
        "colors.append('yellow')\n",
        "colors"
      ],
      "metadata": {
        "colab": {
          "base_uri": "https://localhost:8080/"
        },
        "id": "hcfniRQQ_dHr",
        "outputId": "e272e0ae-a25a-4851-b8c8-210bf8b4e011"
      },
      "execution_count": null,
      "outputs": [
        {
          "output_type": "execute_result",
          "data": {
            "text/plain": [
              "['burgundy', 'orange', 'violet', 'blue', 'indigo', 'yellow']"
            ]
          },
          "metadata": {},
          "execution_count": 49
        }
      ]
    },
    {
      "cell_type": "code",
      "source": [
        "len(colors)"
      ],
      "metadata": {
        "colab": {
          "base_uri": "https://localhost:8080/"
        },
        "id": "a1mFhhwF_kxJ",
        "outputId": "124142b8-77b4-420c-9090-d0b77a3e5ae0"
      },
      "execution_count": null,
      "outputs": [
        {
          "output_type": "execute_result",
          "data": {
            "text/plain": [
              "6"
            ]
          },
          "metadata": {},
          "execution_count": 50
        }
      ]
    },
    {
      "cell_type": "code",
      "source": [
        "colors.insert(len(colors), 'red')\n",
        "colors"
      ],
      "metadata": {
        "colab": {
          "base_uri": "https://localhost:8080/"
        },
        "id": "B5dy8aSr_nj_",
        "outputId": "eb4c9f00-5971-4b24-be9b-657eb29bd4ec"
      },
      "execution_count": null,
      "outputs": [
        {
          "output_type": "execute_result",
          "data": {
            "text/plain": [
              "['burgundy', 'orange', 'violet', 'blue', 'indigo', 'yellow', 'red']"
            ]
          },
          "metadata": {},
          "execution_count": 51
        }
      ]
    },
    {
      "cell_type": "code",
      "source": [
        "colors.extend([\"violet\", \"ultraviolent\"])\n",
        "colors"
      ],
      "metadata": {
        "colab": {
          "base_uri": "https://localhost:8080/"
        },
        "id": "k7BJJvMYAGtR",
        "outputId": "01a8dd56-081a-4d14-ca70-96255751e0b0"
      },
      "execution_count": null,
      "outputs": [
        {
          "output_type": "execute_result",
          "data": {
            "text/plain": [
              "['burgundy',\n",
              " 'orange',\n",
              " 'violet',\n",
              " 'blue',\n",
              " 'indigo',\n",
              " 'yellow',\n",
              " 'red',\n",
              " 'violet',\n",
              " 'ultraviolent']"
            ]
          },
          "metadata": {},
          "execution_count": 52
        }
      ]
    },
    {
      "cell_type": "code",
      "source": [
        "grades = [78, 90, 99, 89, 77]\n",
        "total_grade = 0\n",
        "for grade in grades:\n",
        "  total_grade = total_grade + grade\n",
        "total_grade"
      ],
      "metadata": {
        "colab": {
          "base_uri": "https://localhost:8080/"
        },
        "id": "DBQrVJvxAc9l",
        "outputId": "97887151-770a-4c30-d19b-788e9bdd533e"
      },
      "execution_count": null,
      "outputs": [
        {
          "output_type": "execute_result",
          "data": {
            "text/plain": [
              "433"
            ]
          },
          "metadata": {},
          "execution_count": 55
        }
      ]
    },
    {
      "cell_type": "code",
      "source": [
        "nums = [1, 2 , 3, 4, 5]\n",
        "total = 0\n",
        "for number in nums:\n",
        "  total = total + number\n",
        "total"
      ],
      "metadata": {
        "colab": {
          "base_uri": "https://localhost:8080/"
        },
        "id": "QDNJYECXA-4I",
        "outputId": "4bb80396-1294-4291-fc42-08f89a1a9cd1"
      },
      "execution_count": null,
      "outputs": [
        {
          "output_type": "execute_result",
          "data": {
            "text/plain": [
              "15"
            ]
          },
          "metadata": {},
          "execution_count": 57
        }
      ]
    },
    {
      "cell_type": "code",
      "source": [
        "numbers = [1,2, 3, 4, 5]\n",
        "squares = [num**2 for num in numbers]\n",
        "squares\n",
        "\n"
      ],
      "metadata": {
        "colab": {
          "base_uri": "https://localhost:8080/"
        },
        "id": "0_MY8WyXBXW9",
        "outputId": "91fd8eb3-1d0c-4b55-fcdb-6766259b5f0a"
      },
      "execution_count": null,
      "outputs": [
        {
          "output_type": "execute_result",
          "data": {
            "text/plain": [
              "[1, 4, 9, 16, 25]"
            ]
          },
          "metadata": {},
          "execution_count": 58
        }
      ]
    },
    {
      "cell_type": "code",
      "source": [
        "grades = [35, 85, 105]\n",
        "new_grades = [num+10 for num in grades]\n",
        "new_grades"
      ],
      "metadata": {
        "colab": {
          "base_uri": "https://localhost:8080/"
        },
        "id": "_DGxgYsUD9EI",
        "outputId": "755734c0-f4d9-4383-eafb-b073c73925d6"
      },
      "execution_count": null,
      "outputs": [
        {
          "output_type": "execute_result",
          "data": {
            "text/plain": [
              "[45, 95, 115]"
            ]
          },
          "metadata": {},
          "execution_count": 59
        }
      ]
    },
    {
      "cell_type": "code",
      "source": [],
      "metadata": {
        "id": "GQ_avo8eD_sX"
      },
      "execution_count": null,
      "outputs": []
    },
    {
      "cell_type": "markdown",
      "source": [
        "# Exercise 2"
      ],
      "metadata": {
        "id": "yVPbGsC6EMzj"
      }
    },
    {
      "cell_type": "code",
      "source": [
        "food = ['rice', 'beans']\n",
        "food"
      ],
      "metadata": {
        "colab": {
          "base_uri": "https://localhost:8080/"
        },
        "id": "RAphycKpEQme",
        "outputId": "88b4d893-adeb-4fba-875d-f6a4499649b6"
      },
      "execution_count": null,
      "outputs": [
        {
          "output_type": "execute_result",
          "data": {
            "text/plain": [
              "['rice', 'beans']"
            ]
          },
          "metadata": {},
          "execution_count": 1
        }
      ]
    },
    {
      "cell_type": "code",
      "source": [
        "food.append('broccoli')"
      ],
      "metadata": {
        "id": "XfyYC4SzW93M"
      },
      "execution_count": null,
      "outputs": []
    },
    {
      "cell_type": "code",
      "source": [
        "food"
      ],
      "metadata": {
        "colab": {
          "base_uri": "https://localhost:8080/"
        },
        "id": "HJICY8ulXL51",
        "outputId": "1ff741f7-9b41-47db-a1c4-74f9b3b15243"
      },
      "execution_count": null,
      "outputs": [
        {
          "output_type": "execute_result",
          "data": {
            "text/plain": [
              "['rice', 'beans', 'broccoli']"
            ]
          },
          "metadata": {},
          "execution_count": 3
        }
      ]
    },
    {
      "cell_type": "code",
      "source": [
        "food.extend(['bread', 'pizza'])\n",
        "food"
      ],
      "metadata": {
        "colab": {
          "base_uri": "https://localhost:8080/"
        },
        "id": "F3sHZgXGXO6H",
        "outputId": "02a7a23b-19f9-4e36-96a4-8dcf5dd3ebaf"
      },
      "execution_count": null,
      "outputs": [
        {
          "output_type": "execute_result",
          "data": {
            "text/plain": [
              "['rice', 'beans', 'broccoli', 'bread', 'pizza']"
            ]
          },
          "metadata": {},
          "execution_count": 4
        }
      ]
    },
    {
      "cell_type": "code",
      "source": [
        "newfood = food[0:2]\n",
        "print(newfood)"
      ],
      "metadata": {
        "colab": {
          "base_uri": "https://localhost:8080/"
        },
        "id": "EQYtoLbDXdtJ",
        "outputId": "4b5794e4-ae1c-46a3-d25f-4a573d965165"
      },
      "execution_count": null,
      "outputs": [
        {
          "output_type": "stream",
          "name": "stdout",
          "text": [
            "['rice', 'beans']\n"
          ]
        }
      ]
    },
    {
      "cell_type": "code",
      "source": [
        "lastfood = food[-1]\n",
        "print(lastfood)"
      ],
      "metadata": {
        "colab": {
          "base_uri": "https://localhost:8080/"
        },
        "id": "J-spMLF1XpF1",
        "outputId": "05be5b65-a5a6-41a2-93be-b89d6faa5b71"
      },
      "execution_count": null,
      "outputs": [
        {
          "output_type": "stream",
          "name": "stdout",
          "text": [
            "pizza\n"
          ]
        }
      ]
    },
    {
      "cell_type": "code",
      "source": [
        "breakfast_list = \"eggs, fruits, orange juice\"\n",
        "breakfast = breakfast_list.split(\", \")\n",
        "breakfast"
      ],
      "metadata": {
        "colab": {
          "base_uri": "https://localhost:8080/"
        },
        "id": "CU6F8L2aYwrC",
        "outputId": "cf9ca280-7bce-43da-fdb1-44ae550c87d9"
      },
      "execution_count": null,
      "outputs": [
        {
          "output_type": "execute_result",
          "data": {
            "text/plain": [
              "['eggs', 'fruits', 'orange juice']"
            ]
          },
          "metadata": {},
          "execution_count": 12
        }
      ]
    },
    {
      "cell_type": "code",
      "source": [
        "len(breakfast)"
      ],
      "metadata": {
        "colab": {
          "base_uri": "https://localhost:8080/"
        },
        "id": "M5lEg5t2ZhNl",
        "outputId": "7f993470-d2a9-4d90-ba47-39c3dbba49af"
      },
      "execution_count": null,
      "outputs": [
        {
          "output_type": "execute_result",
          "data": {
            "text/plain": [
              "3"
            ]
          },
          "metadata": {},
          "execution_count": 13
        }
      ]
    },
    {
      "cell_type": "code",
      "source": [
        "\n",
        "lengths = [len(word) for word in breakfast]\n",
        "print(lengths)\n"
      ],
      "metadata": {
        "colab": {
          "base_uri": "https://localhost:8080/"
        },
        "id": "i7kYA9-xZ80_",
        "outputId": "5ab7ca1d-6824-4d5b-969e-782d797da5a1"
      },
      "execution_count": null,
      "outputs": [
        {
          "output_type": "stream",
          "name": "stdout",
          "text": [
            "[4, 6, 12]\n"
          ]
        }
      ]
    },
    {
      "cell_type": "code",
      "source": [],
      "metadata": {
        "id": "IVndEK0BaaAn"
      },
      "execution_count": null,
      "outputs": []
    },
    {
      "cell_type": "markdown",
      "source": [
        "Exercise 3"
      ],
      "metadata": {
        "id": "ietfxSekajfd"
      }
    },
    {
      "cell_type": "code",
      "source": [
        "data = ([1, 2], [3, 4])\n",
        "data"
      ],
      "metadata": {
        "colab": {
          "base_uri": "https://localhost:8080/"
        },
        "id": "8rjw6szbakqb",
        "outputId": "6454f918-4b06-4e27-ae35-4cd6eda8f4ba"
      },
      "execution_count": null,
      "outputs": [
        {
          "output_type": "execute_result",
          "data": {
            "text/plain": [
              "([1, 2], [3, 4])"
            ]
          },
          "metadata": {},
          "execution_count": 15
        }
      ]
    },
    {
      "cell_type": "code",
      "source": [
        "type(data)"
      ],
      "metadata": {
        "colab": {
          "base_uri": "https://localhost:8080/"
        },
        "id": "E2pctdnccjMB",
        "outputId": "e8412cf2-4080-476e-af2d-4ea4fb611f09"
      },
      "execution_count": null,
      "outputs": [
        {
          "output_type": "execute_result",
          "data": {
            "text/plain": [
              "tuple"
            ]
          },
          "metadata": {},
          "execution_count": 16
        }
      ]
    },
    {
      "cell_type": "code",
      "source": [
        "for i, tup in enumerate(data, start=1):\n",
        "    row_sum = sum(tup)\n",
        "    print(f\"Row {i} sum: {row_sum}\")\n"
      ],
      "metadata": {
        "colab": {
          "base_uri": "https://localhost:8080/"
        },
        "id": "qlIPE0nVclOv",
        "outputId": "f0d767c2-5edf-4d0b-f29e-317328cfdfd5"
      },
      "execution_count": null,
      "outputs": [
        {
          "output_type": "stream",
          "name": "stdout",
          "text": [
            "Row 1 sum: 3\n",
            "Row 2 sum: 7\n"
          ]
        }
      ]
    },
    {
      "cell_type": "code",
      "source": [
        "number = [4, 3, 2, 1]\n",
        "number"
      ],
      "metadata": {
        "colab": {
          "base_uri": "https://localhost:8080/"
        },
        "id": "FnWxmSF2dOY9",
        "outputId": "064b2bff-1120-46b9-f3db-963512211c01"
      },
      "execution_count": null,
      "outputs": [
        {
          "output_type": "execute_result",
          "data": {
            "text/plain": [
              "[4, 3, 2, 1]"
            ]
          },
          "metadata": {},
          "execution_count": 18
        }
      ]
    },
    {
      "cell_type": "code",
      "source": [
        "number_copy = number[:]\n",
        "number_copy"
      ],
      "metadata": {
        "colab": {
          "base_uri": "https://localhost:8080/"
        },
        "id": "PO5sUWLzd7be",
        "outputId": "f4ac4584-e110-4b60-f1c4-11500112055a"
      },
      "execution_count": null,
      "outputs": [
        {
          "output_type": "execute_result",
          "data": {
            "text/plain": [
              "[4, 3, 2, 1]"
            ]
          },
          "metadata": {},
          "execution_count": 19
        }
      ]
    },
    {
      "cell_type": "code",
      "source": [
        "number.sort()\n",
        "number"
      ],
      "metadata": {
        "colab": {
          "base_uri": "https://localhost:8080/"
        },
        "id": "xGtt-MbVeaiI",
        "outputId": "982ce001-f28c-4cd8-9b6f-78ff2608619e"
      },
      "execution_count": null,
      "outputs": [
        {
          "output_type": "execute_result",
          "data": {
            "text/plain": [
              "[1, 2, 3, 4]"
            ]
          },
          "metadata": {},
          "execution_count": 23
        }
      ]
    },
    {
      "cell_type": "markdown",
      "source": [
        "Write a program that contains the following lists of lists:\n",
        "\n",
        "Define a function, enrollment_stats(), that takes, as an input, a list of lists where each individual list contains three elements: (a) the name of a university, (b) the total number of enrolled students, and (c) the annual tuition fees. enrollment_stats() should return two lists: the first containing all of the student enrollment values and the second containing all of the tuition fees. Next, define a mean() and a median() function. Both functions should take a single lis s an argument and return the mean and median of the values in each list. Using universities, enrollment_stats(), mean(), and median(), calculate the total number of students, the total tuition, the mean and median of the number of students, and the mean and median tuition values. Finally, output all values, and format the output so that it looks like this:"
      ],
      "metadata": {
        "id": "rklNhc5ufRkp"
      }
    },
    {
      "cell_type": "code",
      "source": [
        "def enrollment_stats(universities):\n",
        "    enrollments = [row[1] for row in universities]\n",
        "    tuitions = [row[2] for row in universities]\n",
        "    return enrollments, tuitions\n",
        "\n",
        "def mean(data):\n",
        "    return sum(data) / len(data)\n",
        "\n",
        "def median(data):\n",
        "    sorted_data = sorted(data)\n",
        "    length = len(sorted_data)\n",
        "    if length % 2 == 0:\n",
        "        middle = length // 2\n",
        "        return (sorted_data[middle - 1] + sorted_data[middle]) / 2\n",
        "    else:\n",
        "        return sorted_data[length // 2]\n",
        "\n",
        "universities = [\n",
        "    ['California Institute of Technology', 2175, 37704],\n",
        "    ['Harvard', 19627, 39849],\n",
        "    ['Massachusetts Institute of Technology', 10566, 40732],\n",
        "    ['Princeton', 7802, 37000],\n",
        "    ['Rice', 5879, 35551],\n",
        "    ['Stanford', 19535, 40569],\n",
        "    ['Yale', 11701, 40500]\n",
        "]\n",
        "\n",
        "enrollments, tuitions = enrollment_stats(universities)\n",
        "\n",
        "total_students = sum(enrollments)\n",
        "total_tuition = sum(tuitions)\n",
        "mean_students = mean(enrollments)\n",
        "median_students = median(enrollments)\n",
        "mean_tuition = mean(tuitions)\n",
        "median_tuition = median(tuitions)\n",
        "\n",
        "print(\"Total students:\", total_students)\n",
        "print(\"Total tuition:\", total_tuition)\n",
        "print(\"Mean number of students:\", mean_students)\n",
        "print(\"Median number of students:\", median_students)\n",
        "print(\"Mean tuition:\", mean_tuition)\n",
        "print(\"Median tuition:\", median_tuition)\n"
      ],
      "metadata": {
        "colab": {
          "base_uri": "https://localhost:8080/"
        },
        "id": "Ceuz-ZhXfTet",
        "outputId": "c8f99e57-c8d0-41c1-c5da-0e62aaabedf8"
      },
      "execution_count": null,
      "outputs": [
        {
          "output_type": "stream",
          "name": "stdout",
          "text": [
            "Total students: 77285\n",
            "Total tuition: 271905\n",
            "Mean number of students: 11040.714285714286\n",
            "Median number of students: 10566\n",
            "Mean tuition: 38843.57142857143\n",
            "Median tuition: 39849\n"
          ]
        }
      ]
    },
    {
      "cell_type": "code",
      "source": [],
      "metadata": {
        "id": "Q2CwMLQ_jGvI"
      },
      "execution_count": null,
      "outputs": []
    },
    {
      "cell_type": "markdown",
      "source": [
        "EXERCISE **4**"
      ],
      "metadata": {
        "id": "PsaE9OXssAhv"
      }
    },
    {
      "cell_type": "code",
      "source": [
        "captains = {}\n",
        "captains['Picard Voyager'] = 'Janeway'\n",
        "captains['Defiant'] = 'Sisko'\n",
        "captains"
      ],
      "metadata": {
        "colab": {
          "base_uri": "https://localhost:8080/"
        },
        "id": "yfxr2A0MsEtU",
        "outputId": "fc2264a1-7138-43dc-db30-5c91913f2d35"
      },
      "execution_count": null,
      "outputs": [
        {
          "output_type": "execute_result",
          "data": {
            "text/plain": [
              "{'Picard Voyager': 'Janeway', 'Defiant': 'Sisko'}"
            ]
          },
          "metadata": {},
          "execution_count": 27
        }
      ]
    },
    {
      "cell_type": "code",
      "source": [
        "if \"Enterprise\" in captains:\n",
        "    print(captains['Enterprise'])\n",
        "else:\n",
        "      captains['Enterprise'] = 'unknown'\n",
        "\n",
        "\n",
        "if \"Discovery\" in captains:\n",
        "     print(captains['Discovery'])\n",
        "else:\n",
        "      captains['Discovery'] = 'unknown'\n"
      ],
      "metadata": {
        "id": "H_51Pj8RvgOI"
      },
      "execution_count": null,
      "outputs": []
    },
    {
      "cell_type": "code",
      "source": [
        "captains"
      ],
      "metadata": {
        "colab": {
          "base_uri": "https://localhost:8080/"
        },
        "id": "jv4g-PYMwaPH",
        "outputId": "70ecd209-d879-4544-c368-1e201d6ca20f"
      },
      "execution_count": null,
      "outputs": [
        {
          "output_type": "execute_result",
          "data": {
            "text/plain": [
              "{'Picard Voyager': 'Janeway',\n",
              " 'Defiant': 'Sisko',\n",
              " 'Enterprise': 'unknown',\n",
              " 'Discovery': 'unknown'}"
            ]
          },
          "metadata": {},
          "execution_count": 32
        }
      ]
    },
    {
      "cell_type": "code",
      "source": [
        "for ship, captain_names in captains.items():\n",
        "    print(f\"The {ship} is Captained by {captain_names}\")"
      ],
      "metadata": {
        "colab": {
          "base_uri": "https://localhost:8080/"
        },
        "id": "YQRe4xQ4wnAa",
        "outputId": "adab5391-cf4f-4516-f648-b8af11b6113b"
      },
      "execution_count": null,
      "outputs": [
        {
          "output_type": "stream",
          "name": "stdout",
          "text": [
            "The Picard Voyager is Captained by Janeway\n",
            "The Defiant is Captained by Sisko\n",
            "The Enterprise is Captained by unknown\n",
            "The Discovery is Captained by unknown\n"
          ]
        }
      ]
    },
    {
      "cell_type": "code",
      "source": [
        "del captains['Discovery']\n",
        "captains"
      ],
      "metadata": {
        "colab": {
          "base_uri": "https://localhost:8080/"
        },
        "id": "CG-ceseXyg7h",
        "outputId": "15446909-2567-4c4f-b36c-d4b657ac67a6"
      },
      "execution_count": null,
      "outputs": [
        {
          "output_type": "execute_result",
          "data": {
            "text/plain": [
              "{'Picard Voyager': 'Janeway', 'Defiant': 'Sisko', 'Enterprise': 'unknown'}"
            ]
          },
          "metadata": {},
          "execution_count": 39
        }
      ]
    },
    {
      "cell_type": "code",
      "source": [
        "\n",
        "\n",
        "\n",
        "captains = dict({'Picard Voyager' : 'Janeway', 'Defiant' : 'Sisko', 'Enterprise' : 'unknown', 'Discovery' :'unknown'})\n",
        "captains"
      ],
      "metadata": {
        "colab": {
          "base_uri": "https://localhost:8080/"
        },
        "id": "iJRH-tYxy7Gs",
        "outputId": "258eb505-321e-4124-80d8-c0839c6dcc2e"
      },
      "execution_count": null,
      "outputs": [
        {
          "output_type": "execute_result",
          "data": {
            "text/plain": [
              "{'Picard Voyager': 'Janeway',\n",
              " 'Defiant': 'Sisko',\n",
              " 'Enterprise': 'unknown',\n",
              " 'Discovery': 'unknown'}"
            ]
          },
          "metadata": {},
          "execution_count": 42
        }
      ]
    },
    {
      "cell_type": "code",
      "source": [],
      "metadata": {
        "id": "1B0sR5Gf2vbw"
      },
      "execution_count": null,
      "outputs": []
    },
    {
      "cell_type": "markdown",
      "source": [
        "EXERCISE 5"
      ],
      "metadata": {
        "id": "lgaCE2f68vOD"
      }
    },
    {
      "cell_type": "code",
      "source": [
        "# Initialize a list of 100 cats without hats (False represents no hat)\n",
        "cats = [False] * 100\n",
        "\n",
        "# Walk around the circle 100 times\n",
        "for round_number in range(1, 101):\n",
        "    # Visit each cat and toggle the hat status based on the round number\n",
        "    for cat_number in range(round_number - 1, 100, round_number):\n",
        "        cats[cat_number] = not cats[cat_number]\n",
        "        # Put a hat if none, take off if already has\n",
        "\n",
        "# Create a list of cats with hats at the end\n",
        "cats_with_hats = []\n",
        "for cat_number, has_hat in enumerate(cats):\n",
        "    if has_hat:\n",
        "        cats_with_hats.append(cat_number + 1)\n",
        "\n",
        "# Print the cats with hats at the end\n",
        "print(\"Cats with hats at the end:\", cats_with_hats)\n"
      ],
      "metadata": {
        "colab": {
          "base_uri": "https://localhost:8080/"
        },
        "id": "wE7v3uTT8yG9",
        "outputId": "9e14bef4-66a0-4e4d-cacf-84b0b733e2c4"
      },
      "execution_count": null,
      "outputs": [
        {
          "output_type": "stream",
          "name": "stdout",
          "text": [
            "Cats with hats at the end: [1, 4, 9, 16, 25, 36, 49, 64, 81, 100]\n"
          ]
        }
      ]
    },
    {
      "cell_type": "code",
      "source": [],
      "metadata": {
        "id": "5_6s3wkU8_6B"
      },
      "execution_count": null,
      "outputs": []
    },
    {
      "cell_type": "markdown",
      "source": [
        "FUNCTIONS"
      ],
      "metadata": {
        "id": "EEm5X3q5tZKQ"
      }
    },
    {
      "cell_type": "code",
      "source": [
        "h = 'hawa'\n",
        "id(h)"
      ],
      "metadata": {
        "colab": {
          "base_uri": "https://localhost:8080/"
        },
        "id": "8dfVuXDHta3H",
        "outputId": "99f70d06-0b33-4967-e5bb-b823b7effb0b"
      },
      "execution_count": null,
      "outputs": [
        {
          "output_type": "execute_result",
          "data": {
            "text/plain": [
              "138697012333424"
            ]
          },
          "metadata": {},
          "execution_count": 2
        }
      ]
    },
    {
      "cell_type": "code",
      "source": [
        "def welcome(name):\n",
        "  print(f'Welcome to Django girls, {name}')\n",
        "\n",
        "welcome('Hawa')"
      ],
      "metadata": {
        "colab": {
          "base_uri": "https://localhost:8080/"
        },
        "id": "E4GzJKMjwJ_g",
        "outputId": "df55a384-64ad-44fb-d0af-f557837f1922"
      },
      "execution_count": null,
      "outputs": [
        {
          "output_type": "stream",
          "name": "stdout",
          "text": [
            "Welcome to Django girls, Hawa\n"
          ]
        }
      ]
    },
    {
      "cell_type": "code",
      "source": [
        "def say_hello(name, course):\n",
        "  print(f'Hello, {name}. I am studying {course}')\n",
        "\n",
        "\n",
        "say_hello('Buju', 'BSEM')"
      ],
      "metadata": {
        "colab": {
          "base_uri": "https://localhost:8080/"
        },
        "id": "K4DyOKYZwbGf",
        "outputId": "5b04d753-8241-456e-d4e7-a8a629ed2568"
      },
      "execution_count": null,
      "outputs": [
        {
          "output_type": "stream",
          "name": "stdout",
          "text": [
            "Hello, Buju. I am studying BSEM\n"
          ]
        }
      ]
    },
    {
      "cell_type": "code",
      "source": [
        "def my_bestie(name, university, age):\n",
        "  print(f'The name of my bestie is {name}. She is attending {university} and she is {age} years old. ')\n",
        "\n",
        "my_bestie('Precious', 'Limkokwing', 21)"
      ],
      "metadata": {
        "colab": {
          "base_uri": "https://localhost:8080/"
        },
        "id": "yK5uxrgKx0-a",
        "outputId": "5b8842e0-60f7-42da-a3c9-5032cf6aaf3f"
      },
      "execution_count": null,
      "outputs": [
        {
          "output_type": "stream",
          "name": "stdout",
          "text": [
            "The name of my bestie is Precious. She is attending Limkokwing and she is 21 years old. \n"
          ]
        }
      ]
    },
    {
      "cell_type": "code",
      "source": [
        "def addition(num1, num2, num3):\n",
        "  add = num1 + num2 + num3\n",
        "  return add\n",
        "addition(3, 6, 7)"
      ],
      "metadata": {
        "colab": {
          "base_uri": "https://localhost:8080/"
        },
        "id": "2nBdhVjqyamS",
        "outputId": "6d91dabe-e639-44bf-880f-fa6acf1a9659"
      },
      "execution_count": null,
      "outputs": [
        {
          "output_type": "execute_result",
          "data": {
            "text/plain": [
              "16"
            ]
          },
          "metadata": {},
          "execution_count": 13
        }
      ]
    },
    {
      "cell_type": "code",
      "source": [
        "def subtraction(num1, num2):\n",
        "  if num1 > num2:\n",
        "    subtract = num1 - num2\n",
        "  else:\n",
        "    subtract = num2 - num1\n",
        "  return subtract\n",
        "subtraction(7, 15)"
      ],
      "metadata": {
        "colab": {
          "base_uri": "https://localhost:8080/"
        },
        "id": "Wo6_bttS06l8",
        "outputId": "1f894e45-2b84-4f15-9d15-9f4a708d9307"
      },
      "execution_count": null,
      "outputs": [
        {
          "output_type": "execute_result",
          "data": {
            "text/plain": [
              "8"
            ]
          },
          "metadata": {},
          "execution_count": 16
        }
      ]
    },
    {
      "cell_type": "code",
      "source": [
        "def multiplication(num1, num2):\n",
        " \"\"\"\n",
        "this function calculates the product of the two arguments given to it\n",
        " \"\"\"\n",
        " multiply = num1 * num2\n",
        " return multiply\n",
        "multiplication(3, 5)\n",
        "\n"
      ],
      "metadata": {
        "colab": {
          "base_uri": "https://localhost:8080/"
        },
        "id": "HIQxWvJ51UWO",
        "outputId": "ae6a6e43-860d-4e5a-b895-9f4835f6dba0"
      },
      "execution_count": null,
      "outputs": [
        {
          "output_type": "execute_result",
          "data": {
            "text/plain": [
              "15"
            ]
          },
          "metadata": {},
          "execution_count": 19
        }
      ]
    },
    {
      "cell_type": "code",
      "source": [
        "help(multiplication)"
      ],
      "metadata": {
        "colab": {
          "base_uri": "https://localhost:8080/"
        },
        "id": "xiL46XAV2MG-",
        "outputId": "35d0cc53-61a6-4a33-8d24-96c8287cc270"
      },
      "execution_count": null,
      "outputs": [
        {
          "output_type": "stream",
          "name": "stdout",
          "text": [
            "Help on function multiplication in module __main__:\n",
            "\n",
            "multiplication(num1, num2)\n",
            "    this function calculates the product of the two arguments given to it\n",
            "\n"
          ]
        }
      ]
    },
    {
      "cell_type": "code",
      "source": [
        "def cube(num):\n",
        "  '''\n",
        "  this function returns the cube of the given argument\n",
        "  '''\n",
        "  result = num * num * num\n",
        "  return result\n",
        "cube(3)\n"
      ],
      "metadata": {
        "colab": {
          "base_uri": "https://localhost:8080/"
        },
        "id": "C78EgUXF4J-l",
        "outputId": "d64c1c90-a860-4fb8-d281-0a21cb0936ae"
      },
      "execution_count": null,
      "outputs": [
        {
          "output_type": "execute_result",
          "data": {
            "text/plain": [
              "27"
            ]
          },
          "metadata": {},
          "execution_count": 21
        }
      ]
    },
    {
      "cell_type": "code",
      "source": [
        "def greet(name):\n",
        "  '''\n",
        "  this void function greets the user\n",
        "   '''\n",
        "  print(f'Hello {name}!')\n",
        "greet('Buju')"
      ],
      "metadata": {
        "colab": {
          "base_uri": "https://localhost:8080/"
        },
        "id": "cRZmHuGf4y2d",
        "outputId": "8abf0355-914c-4cb4-c0cc-1322c1bec127"
      },
      "execution_count": null,
      "outputs": [
        {
          "output_type": "stream",
          "name": "stdout",
          "text": [
            "Hello Buju!\n"
          ]
        }
      ]
    },
    {
      "cell_type": "code",
      "source": [
        "def convert_cel_to_far(celsius):\n",
        "  f = celsius * (9/5) + 32\n",
        "  return f\n",
        "convert_cel_to_far(32)"
      ],
      "metadata": {
        "colab": {
          "base_uri": "https://localhost:8080/"
        },
        "id": "XGMnEu6G5I7j",
        "outputId": "29a34701-ce2a-4c1e-c5fc-08c5210ad48d"
      },
      "execution_count": null,
      "outputs": [
        {
          "output_type": "execute_result",
          "data": {
            "text/plain": [
              "89.6"
            ]
          },
          "metadata": {},
          "execution_count": 27
        }
      ]
    },
    {
      "cell_type": "code",
      "source": [
        "def convert_far_to_cel(fahrenheit):\n",
        "  c = (fahrenheit - 32) * (5/9)\n",
        "  return c\n",
        "convert_far_to_cel(89.6)"
      ],
      "metadata": {
        "colab": {
          "base_uri": "https://localhost:8080/"
        },
        "id": "KF9ieM6y524_",
        "outputId": "f13121a6-7650-4ebd-96b3-b5d5d4698d5c"
      },
      "execution_count": null,
      "outputs": [
        {
          "output_type": "execute_result",
          "data": {
            "text/plain": [
              "32.0"
            ]
          },
          "metadata": {},
          "execution_count": 29
        }
      ]
    },
    {
      "cell_type": "code",
      "source": [
        "def calories_from_fat(fat_grams):\n",
        "  calories_from_fat = fat_grams * 9\n",
        "  return calories_from_fat\n",
        "\n",
        "def calories_from_carbohydrates(carb_grams):\n",
        "  calories_from_carbs = carb_grams * 9\n",
        "  return calories_from_carbs\n"
      ],
      "metadata": {
        "id": "82IdyY2R6X3s"
      },
      "execution_count": null,
      "outputs": []
    },
    {
      "cell_type": "code",
      "source": [
        "def get_fat_gram():\n",
        "  fat_grams = float(input('Enter fat gram'))\n",
        "  return fat_grams\n",
        "\n",
        "def get_carb_gram():\n",
        "  carb_grams = float(input('Enter carb gram'))\n",
        "  return carb_grams"
      ],
      "metadata": {
        "id": "6yVdjrBZ7uGl"
      },
      "execution_count": null,
      "outputs": []
    },
    {
      "cell_type": "code",
      "source": [
        "fat = get_fat_gram()\n",
        "carb = get_carb_gram()\n",
        "\n",
        "fat_result = calories_from_fat(fat)\n",
        "carb_result = calories_from_carbohydrates(carb)\n",
        "\n",
        "print(fat_result)\n",
        "print(carb_result)\n"
      ],
      "metadata": {
        "colab": {
          "base_uri": "https://localhost:8080/"
        },
        "id": "WADkdrPq8YAh",
        "outputId": "8bf46575-360b-4f8f-c2ff-6a2df0a1b1e5"
      },
      "execution_count": null,
      "outputs": [
        {
          "output_type": "stream",
          "name": "stdout",
          "text": [
            "Enter fat gram15\n",
            "Enter carb gram20\n",
            "135.0\n",
            "180.0\n"
          ]
        }
      ]
    },
    {
      "cell_type": "code",
      "source": [],
      "metadata": {
        "id": "pGT6tcg99XuQ"
      },
      "execution_count": null,
      "outputs": []
    },
    {
      "cell_type": "markdown",
      "source": [
        "**CLASSES**"
      ],
      "metadata": {
        "id": "PJhDVhAmIL7L"
      }
    },
    {
      "cell_type": "code",
      "source": [
        "class Student:\n",
        "  # class attributes\n",
        "  university_name = \"Limkokwing University\"\n",
        "  def __init__ (self, id, name, course):\n",
        "    # instance attributes\n",
        "    self.student_id = id\n",
        "    self.student_name = name\n",
        "    self.student_course = course\n",
        "\n",
        "  def get_id(self):\n",
        "    return self.student_id\n",
        "\n",
        "  def set_id(self, id):\n",
        "    self.student_id = id\n",
        "\n",
        "  def get_name(self):\n",
        "    return self.student_name\n",
        "\n",
        "  def set_name(self, name):\n",
        "    self.student_name = name\n",
        "\n",
        "  def get_course(self):\n",
        "    return self.student_course\n",
        "\n",
        "  def set_course(self, course):\n",
        "    self.student_course = course\n",
        "\n",
        "  def __str__ (self):\n",
        "    return (\n",
        "        f'Student Name : {self.student_name} \\n'\n",
        "        f'Student ID : {self.student_id} \\n'\n",
        "        f'Student Course of Study : {self.student_course} \\n'\n",
        "    )\n",
        "  pass"
      ],
      "metadata": {
        "id": "UUAJsG6VINFL"
      },
      "execution_count": null,
      "outputs": []
    },
    {
      "cell_type": "code",
      "source": [
        "hawa = Student(27, \"Hawa\", \"BSEM\")\n",
        "lia = Student(32, \"Lia\", \"BIT\")"
      ],
      "metadata": {
        "id": "7rJxKxYzIQqf"
      },
      "execution_count": null,
      "outputs": []
    },
    {
      "cell_type": "code",
      "source": [
        "hawa.get_course()"
      ],
      "metadata": {
        "colab": {
          "base_uri": "https://localhost:8080/",
          "height": 35
        },
        "id": "JseXXOcBMPHX",
        "outputId": "4cb11085-4ea6-4767-a5e2-1ae0f28e137e"
      },
      "execution_count": null,
      "outputs": [
        {
          "output_type": "execute_result",
          "data": {
            "text/plain": [
              "'BSEM'"
            ],
            "application/vnd.google.colaboratory.intrinsic+json": {
              "type": "string"
            }
          },
          "metadata": {},
          "execution_count": 16
        }
      ]
    },
    {
      "cell_type": "code",
      "source": [
        "hawa.university_name == lia.university_name"
      ],
      "metadata": {
        "colab": {
          "base_uri": "https://localhost:8080/"
        },
        "id": "l1hEkv8DQYEv",
        "outputId": "52bf9b17-967d-4303-de65-0c0d06b93fc0"
      },
      "execution_count": null,
      "outputs": [
        {
          "output_type": "execute_result",
          "data": {
            "text/plain": [
              "True"
            ]
          },
          "metadata": {},
          "execution_count": 24
        }
      ]
    },
    {
      "cell_type": "code",
      "source": [
        "print(hawa)"
      ],
      "metadata": {
        "colab": {
          "base_uri": "https://localhost:8080/"
        },
        "id": "aLnu9H3HRZYN",
        "outputId": "2dd0335c-97d0-4273-fa07-05f281e22f1c"
      },
      "execution_count": null,
      "outputs": [
        {
          "output_type": "stream",
          "name": "stdout",
          "text": [
            "Student Name : Hawa \n",
            "Student ID : 27 \n",
            "Student Course of Study : BSEM \n",
            "\n"
          ]
        }
      ]
    },
    {
      "cell_type": "code",
      "source": [
        "print(lia)"
      ],
      "metadata": {
        "colab": {
          "base_uri": "https://localhost:8080/"
        },
        "id": "F7rrA_F6SOx_",
        "outputId": "4600391f-a97b-4274-cbb4-578dd44918d4"
      },
      "execution_count": null,
      "outputs": [
        {
          "output_type": "stream",
          "name": "stdout",
          "text": [
            "Student Name : Lia \n",
            "Student ID : 32 \n",
            "Student Course of Study : BIT \n",
            "\n"
          ]
        }
      ]
    },
    {
      "cell_type": "code",
      "source": [
        "def get_id(self):\n",
        "  return self.student_id\n",
        "\n",
        "def set_id(self, id):\n",
        "  self.student_id = id"
      ],
      "metadata": {
        "id": "ussiFYCnNmXe"
      },
      "execution_count": null,
      "outputs": []
    },
    {
      "cell_type": "markdown",
      "source": [
        "when you want to create a list you use a list literal \"[ ]\""
      ],
      "metadata": {
        "id": "ui1fJklAIzkN"
      }
    },
    {
      "cell_type": "code",
      "source": [],
      "metadata": {
        "id": "CdzTujVKI-Ac"
      },
      "execution_count": null,
      "outputs": []
    },
    {
      "cell_type": "markdown",
      "source": [
        "class is a blueprint of creating an object\n",
        "\n",
        "__init__ means initialization  \n",
        "double underscore (__) means dunder\n",
        "constructor are methods that are called whenever\n",
        "this is used to represents an object (used to self reference but in python the keyword self is used)\n",
        "\n",
        "how to create an object of a class using the __init__ method check above\n",
        "the self.student_id are called student attributes or properties\n",
        "\n",
        "getters are also called accessor (because you access information with them)\n",
        "setters are called the mutators (because you make changes with them)"
      ],
      "metadata": {
        "id": "g9fpzZx3JDhD"
      }
    },
    {
      "cell_type": "code",
      "source": [
        "class Car:\n",
        "  def __init__ (self, model, make, speed, color):\n",
        "    # instance attributes\n",
        "    self.car_model = model\n",
        "    self.car_make = make\n",
        "    self.car_speed = speed\n",
        "    self.car_color = color\n",
        "    self.started = False\n",
        "    self.max_speed = 200\n",
        "\n",
        "  def get_car_speed(self):\n",
        "    return self.car_speed\n",
        "\n",
        "  def set_car_speed(self, value):\n",
        "    self.car_speed = value\n",
        "\n",
        "  def get_car_model(self):\n",
        "    return self.car_model\n",
        "\n",
        "  def set_car_model(self, value):\n",
        "    self.car_model = value\n",
        "\n",
        "  def get_car_make(self):\n",
        "    return self.car_make\n",
        "\n",
        "  def set_car_make(self, value):\n",
        "    self.car_make = value\n",
        "\n",
        "  def get_car_color(self):\n",
        "    return self.car_color\n",
        "\n",
        "  def set_car_color(self, value):\n",
        "    self.car_color = value\n",
        "\n",
        "  def accelerate(self):\n",
        "    if self.started:\n",
        "      print(\"YOU SHOULD START THE CAR\")\n",
        "    if self.car_speed + 5 > self.max_speed:\n",
        "      self.car_speed = self.max_speed\n",
        "    else:\n",
        "      self.car_speed += 5\n",
        "\n",
        "    print(f'Accelerating at {self.car_speed} km/hr....')\n",
        "\n",
        "  def brake(self):\n",
        "    if self.car_speed - 5 < 0:\n",
        "      self.car_speed = 0\n",
        "    else:\n",
        "      self.car_speed -= 5\n",
        "\n",
        "  def __str__ (self):\n",
        "    return (\n",
        "        f'Car Make : {self.car_make} \\n'\n",
        "        f'Car Model : {self.car_model} \\n'\n",
        "        f'Car Color : {self.car_color} \\n'\n",
        "        f'Car Speed : {self.car_speed}'\n",
        "    )\n"
      ],
      "metadata": {
        "id": "bXIyFyAzKNxC"
      },
      "execution_count": 4,
      "outputs": []
    },
    {
      "cell_type": "code",
      "source": [
        "porsche = Car(2021, \"Porsche\", 30, \"Purple\")"
      ],
      "metadata": {
        "id": "wLgKbegjYB92"
      },
      "execution_count": 5,
      "outputs": []
    },
    {
      "cell_type": "code",
      "source": [
        "porsche.accelerate()\n",
        "porsche.accelerate()\n"
      ],
      "metadata": {
        "colab": {
          "base_uri": "https://localhost:8080/"
        },
        "id": "wLj9XbyyYN4y",
        "outputId": "94ad1fa0-0b7c-4ebd-b6d2-e873f9ceb416"
      },
      "execution_count": 6,
      "outputs": [
        {
          "output_type": "stream",
          "name": "stdout",
          "text": [
            "Accelerating at 35 km/hr....\n",
            "Accelerating at 40 km/hr....\n"
          ]
        }
      ]
    },
    {
      "cell_type": "code",
      "source": [
        "porsche.brake()\n"
      ],
      "metadata": {
        "id": "7YYcNL-QYrhK"
      },
      "execution_count": null,
      "outputs": []
    },
    {
      "cell_type": "code",
      "source": [
        "print(porsche)"
      ],
      "metadata": {
        "colab": {
          "base_uri": "https://localhost:8080/"
        },
        "id": "5QtVGzANY37g",
        "outputId": "cd5bf51a-915a-49a5-dab1-d036086b6018"
      },
      "execution_count": 7,
      "outputs": [
        {
          "output_type": "stream",
          "name": "stdout",
          "text": [
            "Car Make : Porsche \n",
            "Car Model : 2021 \n",
            "Car Color : Purple \n",
            "Car Speed : 40\n"
          ]
        }
      ]
    },
    {
      "cell_type": "code",
      "source": [
        "def get_car_model(self):\n",
        "    return self.car_model\n",
        "\n",
        "def set_car_model(self, value):\n",
        "    self.car_model = value\n",
        "\n",
        "def get_car_make(self):\n",
        "    return self.car_make\n",
        "\n",
        "def set_car_make(self, value):\n",
        "    self.car_make = value\n",
        "\n",
        "def get_car_color(self):\n",
        "    return self.car_color\n",
        "\n",
        "def set_car_color(self, value):\n",
        "    self.car_color = value"
      ],
      "metadata": {
        "id": "98P6eo9oZoOX"
      },
      "execution_count": 8,
      "outputs": []
    },
    {
      "cell_type": "code",
      "source": [
        "print(porsche)"
      ],
      "metadata": {
        "colab": {
          "base_uri": "https://localhost:8080/"
        },
        "id": "SAIi9be6O5b8",
        "outputId": "fd04e01f-ec7d-47f0-8a8d-3023846140df"
      },
      "execution_count": 9,
      "outputs": [
        {
          "output_type": "stream",
          "name": "stdout",
          "text": [
            "Car Make : Porsche \n",
            "Car Model : 2021 \n",
            "Car Color : Purple \n",
            "Car Speed : 40\n"
          ]
        }
      ]
    },
    {
      "cell_type": "code",
      "source": [],
      "metadata": {
        "id": "U2XalK_nPHnq"
      },
      "execution_count": null,
      "outputs": []
    }
  ]
}